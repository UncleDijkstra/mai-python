{
 "cells": [
  {
   "cell_type": "markdown",
   "metadata": {},
   "source": [
    "<center>\n",
    "\n",
    "# Курс \"Основы Python для анализа данных\"\n",
    "\n",
    "## Артамонов Игорь Михайлович\n",
    "## Факультет \"Прикладная математика\" МАИ\n",
    "\n",
    "### Занятие № 3.  Объектно ориентированное и функциональное программирование\n",
    "\n",
    "</center>\n"
   ]
  },
  {
   "cell_type": "markdown",
   "metadata": {},
   "source": [
    "## Общение / вопросы по курсу\n",
    "\n",
    "Платформа для групповой работы Atlassian Confluence факультета \"Прикладная математика\"\n",
    "\n",
    "https://mai.moscow/display/PYTML"
   ]
  },
  {
   "cell_type": "markdown",
   "metadata": {},
   "source": [
    "* <b>Занятие 3. Объектно ориентированное и функциональное программирование</b>\n",
    "       * Объектно ориентированное программирование\n",
    "           * Общие понятия\n",
    "           * ООП в Python\n",
    "       * Функциональное программирование\n",
    "           * Общие понятия\n",
    "           * ФП в Python"
   ]
  },
  {
   "cell_type": "markdown",
   "metadata": {},
   "source": [
    "## virtualenv + Jupyter notebook"
   ]
  },
  {
   "cell_type": "markdown",
   "metadata": {},
   "source": [
    "```\n",
    "<Ctrl> + <Alt> + T - новое окно терминала\n",
    "```"
   ]
  },
  {
   "cell_type": "markdown",
   "metadata": {},
   "source": [
    "```\n",
    "$ conda -V\n",
    "\n",
    "$ conda update conda\n",
    "\n",
    "$ conda search \"^python$\"\n",
    "\n",
    "$ conda create -n yourenvname python=x.x anaconda\n",
    "\n",
    "$ source activate yourenvname\n",
    "\n",
    "$ jupyter notebook\n",
    "\n",
    "$ conda install -n yourenvname [package]\n",
    "```"
   ]
  },
  {
   "cell_type": "markdown",
   "metadata": {},
   "source": [
    "# Общее"
   ]
  },
  {
   "cell_type": "markdown",
   "metadata": {},
   "source": [
    "* Python позволяет писать в рамках большинства подходов к программированию. Часто говорят, что он поддерживает несколько __парадигм__ программирования:\n",
    "    - императивное\n",
    "    - структурное\n",
    "    - объектно-ориентированное\n",
    "    - функциональное\n",
    "* При наличии дополнительных пакетов (Kanren + SymPy) поддерживает даже логическое программирование\n",
    "* Такие языки называют многопарадигменными (_multi-paradigm programming language_)"
   ]
  },
  {
   "cell_type": "markdown",
   "metadata": {},
   "source": [
    "### Когда недостаточно императивного программирования:"
   ]
  },
  {
   "cell_type": "markdown",
   "metadata": {},
   "source": [
    "* много (в том числе - очень) кода\n",
    "* можно выделить структуру задачи через функции или объекты\n",
    "* использование внешних библиотек, использующих определенный подход (например, почти все интерфейсные\n",
    "  библиотеки используют объектно-ориентированный подход\n",
    "* рефакторинг кода для улучшения его структуры\n",
    "* хорошее понимание одной из парадигм и умение \"раскладывать\" в неё задачи"
   ]
  },
  {
   "cell_type": "markdown",
   "metadata": {},
   "source": [
    "## <font color=blue>ВАЖНО!</font>"
   ]
  },
  {
   "cell_type": "markdown",
   "metadata": {},
   "source": [
    "* наличие инструментов и использование парадигмы - это __разные__ вещи\n",
    "* правильное понимание и использование парадигмы часто __важнее__, чем наличие инструментов\n",
    "* многие инструменты могут успешно использоваться __вне__ \"чистого\" объектно-ориентированного или функционального кода"
   ]
  },
  {
   "cell_type": "code",
   "execution_count": 1,
   "metadata": {},
   "outputs": [],
   "source": [
    "import numpy as np\n",
    "import pandas as pd\n",
    "import matplotlib.pyplot as plt\n",
    "import scipy as sc\n",
    "%matplotlib inline"
   ]
  },
  {
   "cell_type": "markdown",
   "metadata": {},
   "source": [
    "# Объектно-ориентированное программирование"
   ]
  },
  {
   "cell_type": "markdown",
   "metadata": {},
   "source": [
    "## Основные принципы"
   ]
  },
  {
   "cell_type": "markdown",
   "metadata": {},
   "source": [
    "* способ __структурирования__ программы\n",
    "* поведение и свойства (чего-то) помещены в индивидуальные __объекты__\n",
    "* объект является представителем __класса__"
   ]
  },
  {
   "cell_type": "markdown",
   "metadata": {},
   "source": [
    "__Класс__ - определяет поведение __группы объектов__"
   ]
  },
  {
   "cell_type": "markdown",
   "metadata": {},
   "source": [
    "__Объект__ (__пример__ класса) - содержит реальные значения, относящиеся непосредственно к нему"
   ]
  },
  {
   "cell_type": "markdown",
   "metadata": {},
   "source": [
    "```python\n",
    "class my_class(superclass(es)):\n",
    "    \n",
    "    def __init__(self):\n",
    "        my_list = []\n",
    "        my_dict = {1:1}\n",
    "        n = 0\n",
    "        pass\n",
    "    \n",
    "    def method1(self, *args):\n",
    "        pass\n",
    "    \n",
    "    def method2(self, *args)\n",
    "        return x\n",
    "    \n",
    "    def __len__(self):\n",
    "        return n\n",
    "```"
   ]
  },
  {
   "cell_type": "markdown",
   "metadata": {},
   "source": [
    "self - обращение к переменной объекта\n",
    "var != self.var"
   ]
  },
  {
   "cell_type": "code",
   "execution_count": 2,
   "metadata": {},
   "outputs": [],
   "source": [
    "class Gender:\n",
    "    def __init__(self, gender):\n",
    "        self.gender = gender\n",
    "\n",
    "    def __str__(self):\n",
    "        return self.gender\n",
    "    \n",
    "    def get():\n",
    "        return self.gender\n",
    "    \n",
    "    def set(gender):\n",
    "        self.gender = gender\n"
   ]
  },
  {
   "cell_type": "code",
   "execution_count": 3,
   "metadata": {
    "scrolled": true
   },
   "outputs": [],
   "source": [
    "class Human:\n",
    "    \n",
    "    population = 0\n",
    "    \n",
    "    def __init__(self, name, age, gender):\n",
    "        self.name = name\n",
    "        self.age = age\n",
    "        self.gender = gender\n",
    "        Human.population += 1\n",
    "    \n",
    "    def __str__(self):\n",
    "        return 'Имя: {}, возраст: {}, пол: {}'.format(self.name, self.age, self.gender)\n",
    "    \n",
    "    def get_name(self):\n",
    "        return self.name\n",
    "\n",
    "    @classmethod\n",
    "    def how_many(cls):\n",
    "        return  Human.population\n"
   ]
  },
  {
   "cell_type": "code",
   "execution_count": 4,
   "metadata": {},
   "outputs": [
    {
     "data": {
      "text/plain": [
       "0"
      ]
     },
     "execution_count": 4,
     "metadata": {},
     "output_type": "execute_result"
    }
   ],
   "source": [
    "Human.how_many()"
   ]
  },
  {
   "cell_type": "code",
   "execution_count": 5,
   "metadata": {},
   "outputs": [
    {
     "name": "stdout",
     "output_type": "stream",
     "text": [
      "<class '__main__.Human'> Имя: Вася, возраст: 30, пол: М\n"
     ]
    }
   ],
   "source": [
    "vasya = Human('Вася', 30, Gender('М'))\n",
    "print(type(vasya), vasya)"
   ]
  },
  {
   "cell_type": "code",
   "execution_count": 6,
   "metadata": {},
   "outputs": [
    {
     "data": {
      "text/plain": [
       "<__main__.Human at 0x7f8745ef4278>"
      ]
     },
     "execution_count": 6,
     "metadata": {},
     "output_type": "execute_result"
    }
   ],
   "source": [
    "Human('Петя', 32, Gender('М'))"
   ]
  },
  {
   "cell_type": "code",
   "execution_count": 7,
   "metadata": {},
   "outputs": [],
   "source": [
    "class Man(Human):\n",
    "    def __init__(self, name, age, gender):\n",
    "        Human.__init__(self, name, age, Gender('M'))\n",
    "    \n",
    "    def get_name(self):\n",
    "        return 'Меня зовут ' + Human.get_name(self)"
   ]
  },
  {
   "cell_type": "code",
   "execution_count": null,
   "metadata": {},
   "outputs": [],
   "source": []
  },
  {
   "cell_type": "code",
   "execution_count": 8,
   "metadata": {},
   "outputs": [
    {
     "name": "stdout",
     "output_type": "stream",
     "text": [
      "2\n"
     ]
    }
   ],
   "source": [
    "print(Human.how_many())"
   ]
  },
  {
   "cell_type": "code",
   "execution_count": 9,
   "metadata": {},
   "outputs": [],
   "source": [
    "vasya = Man('Вася', 30, Gender('М'))"
   ]
  },
  {
   "cell_type": "code",
   "execution_count": 10,
   "metadata": {},
   "outputs": [
    {
     "name": "stdout",
     "output_type": "stream",
     "text": [
      "Имя: Вася, возраст: 30, пол: M\n"
     ]
    }
   ],
   "source": [
    "print(vasya)"
   ]
  },
  {
   "cell_type": "code",
   "execution_count": 11,
   "metadata": {},
   "outputs": [
    {
     "name": "stdout",
     "output_type": "stream",
     "text": [
      "Имя: Вася, возраст: 30, пол: M\n"
     ]
    },
    {
     "data": {
      "text/plain": [
       "(None, __main__.Man)"
      ]
     },
     "execution_count": 11,
     "metadata": {},
     "output_type": "execute_result"
    }
   ],
   "source": [
    "print(vasya), type(vasya)"
   ]
  },
  {
   "cell_type": "code",
   "execution_count": 12,
   "metadata": {},
   "outputs": [
    {
     "data": {
      "text/plain": [
       "True"
      ]
     },
     "execution_count": 12,
     "metadata": {},
     "output_type": "execute_result"
    }
   ],
   "source": [
    "isinstance(vasya, object)"
   ]
  },
  {
   "cell_type": "code",
   "execution_count": null,
   "metadata": {},
   "outputs": [],
   "source": []
  },
  {
   "cell_type": "code",
   "execution_count": 13,
   "metadata": {},
   "outputs": [
    {
     "data": {
      "text/plain": [
       "True"
      ]
     },
     "execution_count": 13,
     "metadata": {},
     "output_type": "execute_result"
    }
   ],
   "source": [
    "isinstance(vasya, Man)"
   ]
  },
  {
   "cell_type": "code",
   "execution_count": 14,
   "metadata": {},
   "outputs": [
    {
     "data": {
      "text/plain": [
       "False"
      ]
     },
     "execution_count": 14,
     "metadata": {},
     "output_type": "execute_result"
    }
   ],
   "source": [
    "isinstance(vasya, list)"
   ]
  },
  {
   "cell_type": "code",
   "execution_count": 15,
   "metadata": {},
   "outputs": [
    {
     "data": {
      "text/plain": [
       "True"
      ]
     },
     "execution_count": 15,
     "metadata": {},
     "output_type": "execute_result"
    }
   ],
   "source": [
    "isinstance([1,2,3], list)"
   ]
  },
  {
   "cell_type": "markdown",
   "metadata": {},
   "source": [
    "## <font color=red>ЗАДАНИЕ</font>"
   ]
  },
  {
   "cell_type": "markdown",
   "metadata": {},
   "source": [
    "Реализуйте класс клеток (cell) со следующими функциями:<br>\n",
    "* при создании у клетки задается имя (строка)\n",
    "* hello - клетка печатает \"Клетка:\" плюс свое имя\n",
    "* die - клетка погибает\n",
    "* divide - возвращяет tuple из двух новых клеток, к имени старой клетки добавлются 0 и 1\n",
    "    старая клетка погибает\n",
    "* Надо сохранять количество клеток в переменной класса"
   ]
  },
  {
   "cell_type": "code",
   "execution_count": 25,
   "metadata": {},
   "outputs": [],
   "source": [
    "class cell:\n",
    "    \n",
    "    amount = 0\n",
    "    \n",
    "    def __init__(self, name : str):\n",
    "        self.name = name\n",
    "        cell.amount += 1\n",
    "    \n",
    "    def hello(self):\n",
    "        print(f'Клетка {self.name}')\n",
    "    \n",
    "    def __del__(self):\n",
    "        cell.amount -= 1\n",
    "    \n",
    "    def divide(self):\n",
    "        name = self.name\n",
    "        return (cell(name + '0'), cell(name + '1'))"
   ]
  },
  {
   "cell_type": "code",
   "execution_count": 26,
   "metadata": {},
   "outputs": [
    {
     "name": "stdout",
     "output_type": "stream",
     "text": [
      "Клетка kappa\n"
     ]
    },
    {
     "data": {
      "text/plain": [
       "(<__main__.cell at 0x1128c56a0>, <__main__.cell at 0x1128c57f0>)"
      ]
     },
     "execution_count": 26,
     "metadata": {},
     "output_type": "execute_result"
    }
   ],
   "source": [
    "kek = cell('kappa')\n",
    "kek.hello()\n",
    "kek.divide()"
   ]
  },
  {
   "cell_type": "code",
   "execution_count": 27,
   "metadata": {},
   "outputs": [
    {
     "name": "stdout",
     "output_type": "stream",
     "text": [
      "3\n"
     ]
    }
   ],
   "source": [
    "print(cell.amount)"
   ]
  },
  {
   "cell_type": "code",
   "execution_count": 28,
   "metadata": {},
   "outputs": [],
   "source": [
    "del kek"
   ]
  },
  {
   "cell_type": "code",
   "execution_count": 29,
   "metadata": {},
   "outputs": [
    {
     "data": {
      "text/plain": [
       "2"
      ]
     },
     "execution_count": 29,
     "metadata": {},
     "output_type": "execute_result"
    }
   ],
   "source": [
    "cell.amount"
   ]
  },
  {
   "cell_type": "markdown",
   "metadata": {},
   "source": [
    "#### Чего в Python нет:\n",
    "    * Перегрузки функций"
   ]
  },
  {
   "cell_type": "markdown",
   "metadata": {},
   "source": [
    "#### Что есть:\n",
    "    * Перегрузка операторов\n",
    "        * Арифметических\n",
    "        * Сравнения\n",
    "        * Как бинарных (+,-), так и унарных (-)\n",
    "    * Определение \"стандартных\" функций (len, str)"
   ]
  },
  {
   "cell_type": "code",
   "execution_count": 37,
   "metadata": {},
   "outputs": [],
   "source": [
    "class MyVector: \n",
    "    def __init__(self, a, b): \n",
    "        self.a = a \n",
    "        self.b = b \n",
    "    \n",
    "    def __len__(self):\n",
    "        return math.sqrt(self.a**2 + self.b**2)\n",
    "\n",
    "    # adding two objects  \n",
    "    def __add__(self, other): \n",
    "        return MyVector(self.a + other.a, self.b + other.b )\n",
    "  \n",
    "    def __neg__(self): \n",
    "        return MyVector(-self.a, -self.b)\n",
    "  \n",
    "    def __str__(self): \n",
    "        return f\"({self.a}, {self.b})\"\n",
    "    \n",
    "    def __lt__(self, other): \n",
    "        return self.__len__() < other.__len__()\n",
    "        \n",
    "    def __eq__(self, other):\n",
    "        return self.a == other.a and self.b == other.b\n"
   ]
  },
  {
   "cell_type": "code",
   "execution_count": 38,
   "metadata": {},
   "outputs": [
    {
     "name": "stdout",
     "output_type": "stream",
     "text": [
      "(2, 3) (2, 3) (3, 5)\n"
     ]
    }
   ],
   "source": [
    "a = MyVector(2,3)\n",
    "b = MyVector(2,3)\n",
    "c = MyVector(3,5)\n",
    "\n",
    "print(a, b, c)"
   ]
  },
  {
   "cell_type": "code",
   "execution_count": 30,
   "metadata": {},
   "outputs": [
    {
     "data": {
      "text/plain": [
       "<__main__.MyVector at 0x7f8745f08390>"
      ]
     },
     "execution_count": 30,
     "metadata": {},
     "output_type": "execute_result"
    }
   ],
   "source": [
    "a + b"
   ]
  },
  {
   "cell_type": "code",
   "execution_count": 33,
   "metadata": {},
   "outputs": [],
   "source": [
    "z = b + c + c"
   ]
  },
  {
   "cell_type": "code",
   "execution_count": 35,
   "metadata": {},
   "outputs": [
    {
     "name": "stdout",
     "output_type": "stream",
     "text": [
      "(8, 13)\n"
     ]
    }
   ],
   "source": [
    "print(z)"
   ]
  },
  {
   "cell_type": "code",
   "execution_count": 36,
   "metadata": {},
   "outputs": [
    {
     "data": {
      "text/plain": [
       "(-2, -3)"
      ]
     },
     "execution_count": 36,
     "metadata": {},
     "output_type": "execute_result"
    }
   ],
   "source": [
    "-a"
   ]
  },
  {
   "cell_type": "markdown",
   "metadata": {},
   "source": [
    "# Функциональное программирование"
   ]
  },
  {
   "cell_type": "markdown",
   "metadata": {},
   "source": [
    "## Основные принципы"
   ]
  },
  {
   "cell_type": "markdown",
   "metadata": {},
   "source": [
    "__\"Чистое\" функциональное программирование__<br>\n",
    "\n",
    "* Функциональное программирование основано на испольовании функций и их композиций\n",
    "* Переменные отсутствуют, только константы\n",
    "* Используются только неизменяемые структуры данных\n",
    "* Нет циклов, нелокальных переходов и исключений\n",
    "* Нет побочных эффектов. Для операций с побочными эффектами используются монады"
   ]
  },
  {
   "cell_type": "markdown",
   "metadata": {},
   "source": [
    "В начале оно кажется очень сложным и непонятным ..."
   ]
  },
  {
   "cell_type": "markdown",
   "metadata": {},
   "source": [
    "### Чистота функций\n",
    "* функция возвращает одинаковый результат при одинаковых значениях аргументов\n",
    "* у функции отсутствуют побочные эффекты -> не зависит от контекста\n"
   ]
  },
  {
   "cell_type": "code",
   "execution_count": 14,
   "metadata": {},
   "outputs": [],
   "source": [
    "def pure_func(x):\n",
    "    return 2 * 3.1415926 * x \n",
    "\n",
    "y = 2\n",
    " \n",
    "def impure_func(x):\n",
    "    y = y + 2 * 3.1415926 * x\n",
    "    return y"
   ]
  },
  {
   "cell_type": "markdown",
   "metadata": {},
   "source": [
    "### Следствия\n",
    "* могут выполняться (оцениваться) в любом порядке\n",
    "* удобны для параллельного выполнения<br>"
   ]
  },
  {
   "cell_type": "markdown",
   "metadata": {},
   "source": [
    "### Вызов чистой функции всегда может быть заменен на результат (ссылочная прозрачность)\n",
    "* проще  тестирование (функция \"изолирована\")\n",
    "* читаемость (не надо анализировать другие функции)\n",
    "* возможность анализа и валидации кода"
   ]
  },
  {
   "cell_type": "markdown",
   "metadata": {},
   "source": [
    "### Первоклассные функции"
   ]
  },
  {
   "cell_type": "markdown",
   "metadata": {},
   "source": [
    "* Функции имеют те же свойства, что и остальные значения\n",
    "* Им пожно присвоить имя или присвоить их объекту\n",
    "* Их можно передать, как аргумент функции\n",
    "* Их можно возвращать"
   ]
  },
  {
   "cell_type": "markdown",
   "metadata": {},
   "source": [
    "## <font color=red>ЗАДАНИЕ</font>"
   ]
  },
  {
   "cell_type": "markdown",
   "metadata": {},
   "source": [
    "Реализуйте класс, принимающий имя функции в виде строки и функцию, связанную с этой строкой. <br>\n",
    "При выполнении метода __execute__ с кодом и переменной или значением выполняет функцию, связанную с кодом.<br>\n",
    "Если кода нет, то методы генерирует прерывание __KeyError__"
   ]
  },
  {
   "cell_type": "code",
   "execution_count": 7,
   "metadata": {},
   "outputs": [],
   "source": [
    "class FDict():\n",
    "    def __init__(self):\n",
    "        self.kek = {}\n",
    "\n",
    "    # добавляет функцию с кодом\n",
    "    def add(self, code, func):\n",
    "        self.kek[code] = func\n",
    "    \n",
    "    # удаляет функцию по коду\n",
    "    def remove(self, code):\n",
    "        if code not in self.kek:\n",
    "            raise KeyError('Саня, ты в порядке?')\n",
    "        self.kek.pop(code)\n",
    "\n",
    "    # выполняет функцию с аргументом\n",
    "    def execute(self, code, arg):\n",
    "        if code not in self.kek:\n",
    "            raise KeyError('Саня, ты в порядке?')\n",
    "        return self.kek[code](arg)\n",
    "    \n",
    "    # возвращает функцию по коду\n",
    "    def get_func(self, code):\n",
    "        if code not in self.kek:\n",
    "            raise KeyError('Саня, ты в порядке?')\n",
    "        return self.kek[code]\n",
    "    \n",
    "    # получает 2*N аргументов (код, значение, код, значение ..) и возвращает кортеж из значений\n",
    "    def execute_many(self, *args):\n",
    "        return tuple(self.kek[i](j) for i, j in zip(args[::2], args[1::2]) if i in self.kek)"
   ]
  },
  {
   "cell_type": "markdown",
   "metadata": {},
   "source": [
    "Проверьте функционирование Вашего кода. Проверьте работу с отсутствующим кодом и добавьте обработку исключения."
   ]
  },
  {
   "cell_type": "code",
   "execution_count": 8,
   "metadata": {},
   "outputs": [
    {
     "name": "stdout",
     "output_type": "stream",
     "text": [
      "1. sin(1.0472)=0.8660, cos(1.0472)=0.5000\n",
      "2. sin(1.047198)=0.866025, cos(1.047198)=-1.000000\n"
     ]
    }
   ],
   "source": [
    "import math\n",
    "from math import sin, cos\n",
    "\n",
    "x = math.pi / 3\n",
    "\n",
    "func_dict = FDict()\n",
    "func_dict.add('sin', math.sin)\n",
    "func_dict.add('cos', math.cos)\n",
    "\n",
    "y1 = func_dict.execute('sin', x)\n",
    "y2 = func_dict.execute('cos', x)\n",
    "\n",
    "print(\"1. sin({0:.4f})={1:.4f}, cos({0:.4f})={2:.4f}\".format(x, y1, y2))\n",
    "\n",
    "y1, y2 = func_dict.execute_many('sin', x*2, 'cos', x*3)\n",
    "print(\"2. sin({0:4f})={1:4f}, cos({0:4f})={2:4f}\".format(x, y1, y2))"
   ]
  },
  {
   "cell_type": "markdown",
   "metadata": {},
   "source": [
    "### Лямбда-функции (анонимные функции)"
   ]
  },
  {
   "cell_type": "code",
   "execution_count": 17,
   "metadata": {},
   "outputs": [
    {
     "data": {
      "text/plain": [
       "-0.15694593947078894"
      ]
     },
     "execution_count": 17,
     "metadata": {},
     "output_type": "execute_result"
    }
   ],
   "source": [
    "f = lambda x, y: sin(x**2) + cos(y**2)\n",
    "\n",
    "def func(x,y):\n",
    "    return sin(x**2) + cos(y**2)\n",
    "\n",
    "f(math.pi/2, math.pi/2)"
   ]
  },
  {
   "cell_type": "markdown",
   "metadata": {},
   "source": [
    "## <font color=green>ВСПОМИНАЕМ</font> генераторы списков, словарей и просто генераторы"
   ]
  },
  {
   "cell_type": "code",
   "execution_count": 23,
   "metadata": {},
   "outputs": [
    {
     "data": {
      "text/plain": [
       "[0.0,\n",
       " 1.4142135623730951,\n",
       " 2.0,\n",
       " 2.449489742783178,\n",
       " 2.8284271247461903,\n",
       " 3.1622776601683795,\n",
       " 3.4641016151377544,\n",
       " 3.7416573867739413,\n",
       " 4.0,\n",
       " 4.242640687119285,\n",
       " 4.47213595499958,\n",
       " 4.69041575982343,\n",
       " 4.898979485566356,\n",
       " 5.0990195135927845,\n",
       " 5.291502622129181,\n",
       " 5.477225575051661,\n",
       " 5.656854249492381,\n",
       " 5.830951894845301,\n",
       " 6.0]"
      ]
     },
     "execution_count": 23,
     "metadata": {},
     "output_type": "execute_result"
    }
   ],
   "source": [
    "import math\n",
    "\n",
    "even_square_roots = [(lambda x: math.sqrt(x))(x) for x in range(37) if x % 2 == 0]\n",
    "even_square_roots\n"
   ]
  },
  {
   "cell_type": "markdown",
   "metadata": {},
   "source": [
    "## <font color=red>ЗАДАНИЕ</font>"
   ]
  },
  {
   "cell_type": "markdown",
   "metadata": {},
   "source": [
    "1. Преобразуйте этот код в формирование словаря, в котором число - ключ, а корень из него - значение"
   ]
  },
  {
   "cell_type": "code",
   "execution_count": null,
   "metadata": {
    "scrolled": true
   },
   "outputs": [],
   "source": [
    "## Ваш код\n",
    "{i : i**2 for i in range(37)}"
   ]
  },
  {
   "cell_type": "markdown",
   "metadata": {},
   "source": [
    "2. Преобразуйте этот код в формирование генератора и пройтиде по нему с помощью цикла for"
   ]
  },
  {
   "cell_type": "code",
   "execution_count": 25,
   "metadata": {},
   "outputs": [],
   "source": [
    "## Ваш код\n"
   ]
  },
  {
   "cell_type": "markdown",
   "metadata": {},
   "source": [
    "### Функции для работы с итерируемыми"
   ]
  },
  {
   "cell_type": "markdown",
   "metadata": {},
   "source": [
    "```python\n",
    "    map()\n",
    "    filter()\n",
    "    reduce()\n",
    "```"
   ]
  },
  {
   "cell_type": "markdown",
   "metadata": {},
   "source": [
    "__map__ - выполняет функцию над всеми элементами итерируемого"
   ]
  },
  {
   "cell_type": "code",
   "execution_count": 39,
   "metadata": {},
   "outputs": [
    {
     "data": {
      "text/plain": [
       "<map at 0x7f8745c20320>"
      ]
     },
     "execution_count": 39,
     "metadata": {},
     "output_type": "execute_result"
    }
   ],
   "source": [
    "squared =  map(lambda x: x**2, [1,2,3])\n",
    "squared"
   ]
  },
  {
   "cell_type": "code",
   "execution_count": 40,
   "metadata": {},
   "outputs": [
    {
     "data": {
      "text/plain": [
       "map"
      ]
     },
     "execution_count": 40,
     "metadata": {},
     "output_type": "execute_result"
    }
   ],
   "source": [
    "type(squared)"
   ]
  },
  {
   "cell_type": "code",
   "execution_count": 41,
   "metadata": {},
   "outputs": [
    {
     "data": {
      "text/plain": [
       "generator"
      ]
     },
     "execution_count": 41,
     "metadata": {},
     "output_type": "execute_result"
    }
   ],
   "source": [
    "x = (i for i in range(10))\n",
    "type(x)"
   ]
  },
  {
   "cell_type": "code",
   "execution_count": 43,
   "metadata": {},
   "outputs": [
    {
     "data": {
      "text/plain": [
       "True"
      ]
     },
     "execution_count": 43,
     "metadata": {},
     "output_type": "execute_result"
    }
   ],
   "source": [
    "isinstance(squared, map)"
   ]
  },
  {
   "cell_type": "markdown",
   "metadata": {},
   "source": [
    "__<font color=blue>??</font>__ Какой тип возвращает __map__? Почему?"
   ]
  },
  {
   "cell_type": "markdown",
   "metadata": {},
   "source": [
    "## <font color=red>ЗАДАНИЕ</font>"
   ]
  },
  {
   "cell_type": "markdown",
   "metadata": {},
   "source": [
    "Найдите длину самой длинной строки в списке с помощью __map__"
   ]
  },
  {
   "cell_type": "code",
   "execution_count": 3,
   "metadata": {},
   "outputs": [],
   "source": [
    "l = ['abc', 'xyz', 'ab', 'qwer', 'trench', 'm', '17', 'www.mai.ru', 'd', 'plot']"
   ]
  },
  {
   "cell_type": "code",
   "execution_count": 12,
   "metadata": {},
   "outputs": [
    {
     "data": {
      "text/plain": [
       "(10, 'www.mai.ru')"
      ]
     },
     "execution_count": 12,
     "metadata": {},
     "output_type": "execute_result"
    }
   ],
   "source": [
    "max(map(lambda x: (len(x), x), l))"
   ]
  },
  {
   "cell_type": "markdown",
   "metadata": {},
   "source": [
    "__filter__ - возвращает те значения из итерируемого, для которых верна функция"
   ]
  },
  {
   "cell_type": "code",
   "execution_count": 44,
   "metadata": {},
   "outputs": [
    {
     "data": {
      "text/plain": [
       "[0, 2, 4, 6, 8, 10, 12, 14, 16, 18]"
      ]
     },
     "execution_count": 44,
     "metadata": {},
     "output_type": "execute_result"
    }
   ],
   "source": [
    "even = list(filter(lambda x:x % 2 == 0, range(20)))\n",
    "even"
   ]
  },
  {
   "cell_type": "markdown",
   "metadata": {},
   "source": [
    "## <font color=red>ЗАДАНИЕ</font>"
   ]
  },
  {
   "cell_type": "markdown",
   "metadata": {},
   "source": [
    "Найдите все строки, в которых присутствует буква __'a'__"
   ]
  },
  {
   "cell_type": "code",
   "execution_count": 45,
   "metadata": {},
   "outputs": [
    {
     "data": {
      "text/plain": [
       "['abc', 'ab', 'www.mai.ru']"
      ]
     },
     "execution_count": 45,
     "metadata": {},
     "output_type": "execute_result"
    }
   ],
   "source": [
    "# Ваш код\n",
    "list(filter(lambda x: 'a' in x,l))"
   ]
  },
  {
   "cell_type": "code",
   "execution_count": null,
   "metadata": {},
   "outputs": [],
   "source": []
  },
  {
   "cell_type": "markdown",
   "metadata": {},
   "source": [
    "__reduce()__ - сворачивает итерируемое в одно значение<br>\n",
    "В отличие от map и filter у функции 2 аргумента"
   ]
  },
  {
   "cell_type": "code",
   "execution_count": 2,
   "metadata": {},
   "outputs": [],
   "source": [
    "from functools import reduce"
   ]
  },
  {
   "cell_type": "code",
   "execution_count": 32,
   "metadata": {},
   "outputs": [
    {
     "data": {
      "text/plain": [
       "45"
      ]
     },
     "execution_count": 32,
     "metadata": {},
     "output_type": "execute_result"
    }
   ],
   "source": [
    "values = list(range(10))\n",
    "summed = reduce( lambda x,y: x+y, values)\n",
    "summed"
   ]
  },
  {
   "cell_type": "markdown",
   "metadata": {},
   "source": [
    "## <font color=red>ЗАДАНИЕ</font>"
   ]
  },
  {
   "cell_type": "markdown",
   "metadata": {},
   "source": [
    "Верните самую длинную строку из списка с помощью reduce<br><br>\n",
    "__<font color=green>Уложившимся в 1 строку с lambda-функцией - 1 балл</font>__"
   ]
  },
  {
   "cell_type": "code",
   "execution_count": 4,
   "metadata": {},
   "outputs": [
    {
     "data": {
      "text/plain": [
       "'www.mai.ru'"
      ]
     },
     "execution_count": 4,
     "metadata": {},
     "output_type": "execute_result"
    }
   ],
   "source": [
    "reduce(lambda x, y: x if len(x) > len(y) else y, l)"
   ]
  },
  {
   "cell_type": "markdown",
   "metadata": {},
   "source": [
    "### Ещё полезности из __functools__"
   ]
  },
  {
   "cell_type": "markdown",
   "metadata": {},
   "source": [
    "__functools__ - работа с функциями высшего порядка, то есть функциями, которые работают с функциями\n",
    "или возвращают другие функции"
   ]
  },
  {
   "cell_type": "code",
   "execution_count": 46,
   "metadata": {},
   "outputs": [],
   "source": [
    "from functools import partial"
   ]
  },
  {
   "cell_type": "code",
   "execution_count": 47,
   "metadata": {},
   "outputs": [
    {
     "data": {
      "text/plain": [
       "6"
      ]
     },
     "execution_count": 47,
     "metadata": {},
     "output_type": "execute_result"
    }
   ],
   "source": [
    "def f(a, b, c):\n",
    "    return a + b + c\n",
    "\n",
    "f(1, 2, 3)"
   ]
  },
  {
   "cell_type": "code",
   "execution_count": 48,
   "metadata": {},
   "outputs": [
    {
     "data": {
      "text/plain": [
       "109"
      ]
     },
     "execution_count": 48,
     "metadata": {},
     "output_type": "execute_result"
    }
   ],
   "source": [
    "part_f = partial(f, 100)\n",
    "part_f(4, 5)"
   ]
  },
  {
   "cell_type": "code",
   "execution_count": 51,
   "metadata": {},
   "outputs": [
    {
     "data": {
      "text/plain": [
       "19"
      ]
     },
     "execution_count": 51,
     "metadata": {},
     "output_type": "execute_result"
    }
   ],
   "source": [
    "part_f = partial(f, b=10)\n",
    "part_f(a=4, c=5)"
   ]
  },
  {
   "cell_type": "markdown",
   "metadata": {},
   "source": [
    "## <font color=red>ДОМАШНЕЕ ЗАДАНИЕ</font>"
   ]
  },
  {
   "cell_type": "markdown",
   "metadata": {},
   "source": [
    "Сделайте класс бинарного дерева, который наполняется строками. <br>\n",
    "Все функции добавления, поиска, удаления, длины должны быть рекурсивными<br><br>\n",
    "<font color=red>__deadline - 18:00 27.09__</font>"
   ]
  },
  {
   "cell_type": "code",
   "execution_count": null,
   "metadata": {},
   "outputs": [],
   "source": [
    "from difflib import ndiff"
   ]
  },
  {
   "cell_type": "code",
   "execution_count": 33,
   "metadata": {},
   "outputs": [],
   "source": [
    "class Bst:\n",
    "    class Node:\n",
    "        def __init__(self, value):\n",
    "            self.left = None\n",
    "            self.right = None\n",
    "            self.value = value\n",
    "\n",
    "    def __init__(self):\n",
    "        self.root = None\n",
    "        self.size = 0\n",
    "        self.values = []\n",
    "\n",
    "    def add(self, value):\n",
    "        if self.root is None:\n",
    "            self.root = self.Node(value)\n",
    "        else:\n",
    "            self.root = self.insert_node(self.root, value)\n",
    "        self.size += 1\n",
    "        self.values.append(value)\n",
    "\n",
    "    # Добавление строки к дереву выглядит странно\n",
    "    def __add__(self, s):\n",
    "        '''\n",
    "        Переопределение +\n",
    "        '''\n",
    "        add(self, s)\n",
    "\n",
    "    def insert_node(self, cur_node, value):\n",
    "        if cur_node is None:\n",
    "            return self.Node(value)\n",
    "        elif cur_node.value <= value:\n",
    "            cur_node.right = self.insert_node(cur_node.right, value)\n",
    "        else:\n",
    "            cur_node.left = self.insert_node(cur_node.left, value)\n",
    "        return cur_node\n",
    "\n",
    "    def remove(self, value):\n",
    "        if not self.isin(value):\n",
    "            return 1\n",
    "        self.root = self.remove_node(self.root, value)\n",
    "        self.size -= 1\n",
    "        return 0\n",
    "\n",
    "    def isin(self, value):\n",
    "        return self._isin(self.root, value)\n",
    "    \n",
    "    def _isin(self, cur_node, value):\n",
    "        if cur_node is None:\n",
    "            return False\n",
    "        elif cur_node.value < value:\n",
    "            return self._isin(cur_node.right, value)\n",
    "        elif cur_node.value > value:\n",
    "            return self._isin(cur_node.left, value)\n",
    "        return True\n",
    "\n",
    "    def remove_node(self, cur_node, value):\n",
    "        if cur_node is None:\n",
    "            return None\n",
    "        elif cur_node.value < value:\n",
    "            cur_node.right = self.remove_node(cur_node.right, value)\n",
    "        elif cur_node.value > value:\n",
    "            cur_node.left = self.remove_node(cur_node.left, value)\n",
    "        else:\n",
    "            if cur_node.left and cur_node.right:\n",
    "                min_node = self.find_min(cur_node.right)\n",
    "                cur_node.value = min_node.value\n",
    "                cur_node.right = self.remove_node(cur_node.right, min_node.value)\n",
    "            elif cur_node.left:\n",
    "                cur_node.value = cur_node.left.value\n",
    "                cur_node.right = cur_node.left.right\n",
    "                cur_node.left = cur_node.left.left\n",
    "            elif cur_node.right:\n",
    "                cur_node.value = cur_node.right.value\n",
    "                cur_node.left = cur_node.right.left\n",
    "                cur_node.right = cur_node.right.right\n",
    "            else:\n",
    "                del cur_node\n",
    "                return None\n",
    "            return cur_node\n",
    "\n",
    "    @staticmethod\n",
    "    def find_min(cur_node):\n",
    "        while cur_node.left:\n",
    "            cur_node = cur_node.left\n",
    "        return cur_node\n",
    "\n",
    "    def __len__(self):\n",
    "        return self.size\n",
    "    \n",
    "    @staticmethod\n",
    "    def dist(value1, value2):\n",
    "        return sum([1 for i in ndiff(value1, value2) if '+' in i or '-' in i])\n",
    "\n",
    "    def get(self, value):\n",
    "        nearest = self.search_node(self.root, value)\n",
    "        return nearest, self.dist(nearest, value)\n",
    "\n",
    "    def search_node(self, cur_node, value):\n",
    "        prev_word = ''\n",
    "        while cur_node is not None:\n",
    "            if cur_node.value == value:\n",
    "                return value\n",
    "            elif cur_node.value < value:\n",
    "                prev_word = cur_node.value\n",
    "                cur_node = cur_node.right\n",
    "            else:\n",
    "                prev_word = cur_node.value\n",
    "                cur_node = cur_node.left\n",
    "        return prev_word\n",
    "\n",
    "    def __str__(self):\n",
    "        return self.print_tree(self.root, 0).rstrip()\n",
    "    \n",
    "    def print_tree(self, cur_node, level):\n",
    "        if cur_node:\n",
    "            line1 = self.print_tree(cur_node.right, level + 1)\n",
    "            line2 = '{:>{width}}\\n'.format(cur_node.value, width=level * 7 + 1)\n",
    "            line3 = self.print_tree(cur_node.left, level + 1)\n",
    "            return ''.join([line1, line2, line3])\n",
    "        return ''\n",
    "\n",
    "    def to_list(self):\n",
    "        '''\n",
    "        возвращает все строки в виде упорядоченного списка\n",
    "        '''\n",
    "        return self.values"
   ]
  },
  {
   "cell_type": "code",
   "execution_count": 34,
   "metadata": {},
   "outputs": [
    {
     "name": "stdout",
     "output_type": "stream",
     "text": [
      "len is  1000\n"
     ]
    }
   ],
   "source": [
    "from random import randint, sample\n",
    "from string import ascii_letters\n",
    "\n",
    "tree = Bst()\n",
    "\n",
    "for i in (''.join(sample(ascii_letters, randint(3, 8))) for i in range(1000)):\n",
    "    tree.add(i)\n",
    "\n",
    "print('len is ', len(tree))"
   ]
  },
  {
   "cell_type": "code",
   "execution_count": 35,
   "metadata": {},
   "outputs": [
    {
     "name": "stdout",
     "output_type": "stream",
     "text": [
      "('kXONoA', 9)\n"
     ]
    },
    {
     "data": {
      "text/plain": [
       "False"
      ]
     },
     "execution_count": 35,
     "metadata": {},
     "output_type": "execute_result"
    }
   ],
   "source": [
    "t = tree.get('kappa')\n",
    "print(t)\n",
    "tree.remove(t[0])\n",
    "tree.isin(t[0])"
   ]
  },
  {
   "cell_type": "code",
   "execution_count": 45,
   "metadata": {},
   "outputs": [],
   "source": [
    "class StrBinTree:\n",
    "    '''\n",
    "    Класс бинарного дерева с функциями поиска и выдачи расстояния до ближайшей сохраненной строки:\n",
    "     '''\n",
    "    def __init__(self):\n",
    "        pass\n",
    "    \n",
    "    def add(self, s):\n",
    "        '''\n",
    "        добавляет строку в дерево\n",
    "        '''\n",
    "        pass\n",
    "    \n",
    "    # Каков смысл этой функции?\n",
    "    def __add__(self, s):\n",
    "        '''\n",
    "        ваше описание\n",
    "        '''\n",
    "        add(self, s)\n",
    "    \n",
    "    def isin(self, str):\n",
    "        '''\n",
    "        возвращает True, если есть точно такая же строка, или False, если её нет\n",
    "        '''\n",
    "        pass\n",
    "        \n",
    "    def remove(self, str):\n",
    "        '''\n",
    "        удаляет строку. Удаление производится только в случае точного совпадения\n",
    "        строки с указанной. Возвращает 0, если удаление выполнено, и 1 в остальных случаях\n",
    "        '''\n",
    "        pass\n",
    "        \n",
    "    def get(self, str):\n",
    "        '''\n",
    "        возвращает ближайшую с лексической точки зрения строку и расстояние строки-аргумента\n",
    "        до нее\n",
    "        '''\n",
    "        pass\n",
    "\n",
    "    def __len__(self):\n",
    "        '''\n",
    "        возвращает количество строк в дереве\n",
    "        '''\n",
    "        pass\n",
    "    \n",
    "    def to_list(self):\n",
    "        '''\n",
    "        возвращает все строки в виде упорядоченного списка\n",
    "        '''\n",
    "        pass"
   ]
  },
  {
   "cell_type": "code",
   "execution_count": 46,
   "metadata": {},
   "outputs": [
    {
     "name": "stdout",
     "output_type": "stream",
     "text": [
      "Help on class StrBinTree in module __main__:\n",
      "\n",
      "class StrBinTree(builtins.object)\n",
      " |  Класс бинарного дерева с функциями поиска и выдачи расстояния до ближайшей сохраненной строки:\n",
      " |  \n",
      " |  Methods defined here:\n",
      " |  \n",
      " |  __add__(self, s)\n",
      " |      ваше описание\n",
      " |  \n",
      " |  __init__(self)\n",
      " |      Initialize self.  See help(type(self)) for accurate signature.\n",
      " |  \n",
      " |  __len__(self)\n",
      " |      возвращает количество строк в дереве\n",
      " |  \n",
      " |  add(self, s)\n",
      " |      добавляет строку в дерево\n",
      " |  \n",
      " |  get(self, str)\n",
      " |      возвращает ближайшую с лексической точки зрения строку и расстояние строки-аргумента\n",
      " |      до нее\n",
      " |  \n",
      " |  isin(self, str)\n",
      " |      возвращает True, если есть точно такая же строка, или False, если её нет\n",
      " |  \n",
      " |  remove(self, str)\n",
      " |      удаляет строку. Удаление производится только в случае точного совпадения\n",
      " |      строки с указанной. Возвращает 0, если удаление выполнено, и 1 в остальных случаях\n",
      " |  \n",
      " |  to_list(self)\n",
      " |      возвращает все строки в виде упорядоченного списка\n",
      " |  \n",
      " |  ----------------------------------------------------------------------\n",
      " |  Data descriptors defined here:\n",
      " |  \n",
      " |  __dict__\n",
      " |      dictionary for instance variables (if defined)\n",
      " |  \n",
      " |  __weakref__\n",
      " |      list of weak references to the object (if defined)\n",
      "\n"
     ]
    }
   ],
   "source": [
    "help(StrBinTree)"
   ]
  },
  {
   "cell_type": "markdown",
   "metadata": {},
   "source": [
    "ДЗ посылать по адресу __mai-ml AT mail.ru__"
   ]
  },
  {
   "cell_type": "markdown",
   "metadata": {},
   "source": [
    "## Экзаменационные вопросы:"
   ]
  },
  {
   "cell_type": "markdown",
   "metadata": {},
   "source": [
    "* Объектно-оринетированное программирование. Основные положения\n",
    "* Классы и объекты в Python\n",
    "* Функциональное программирование. Основные положения\n",
    "* Функциональное программирование в Python\n",
    "* Генераторы списков, словарей и просто генераторы\n",
    "* Функции отображения: map, filter, reduce"
   ]
  },
  {
   "cell_type": "markdown",
   "metadata": {},
   "source": [
    "### К следующему занятию п(р)очитать:\n"
   ]
  },
  {
   "cell_type": "markdown",
   "metadata": {},
   "source": [
    "* что такое объектно ориентированное програмирование\n",
    "* что такое функциональное программирование"
   ]
  }
 ],
 "metadata": {
  "kernelspec": {
   "display_name": "Python 3",
   "language": "python",
   "name": "python3"
  },
  "language_info": {
   "codemirror_mode": {
    "name": "ipython",
    "version": 3
   },
   "file_extension": ".py",
   "mimetype": "text/x-python",
   "name": "python",
   "nbconvert_exporter": "python",
   "pygments_lexer": "ipython3",
   "version": "3.6.7"
  }
 },
 "nbformat": 4,
 "nbformat_minor": 2
}
